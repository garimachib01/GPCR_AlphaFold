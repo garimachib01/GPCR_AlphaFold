{
 "cells": [
  {
   "cell_type": "code",
   "execution_count": 14,
   "metadata": {},
   "outputs": [],
   "source": [
    "import numpy as np\n",
    "import mdtraj as md\n",
    "import pandas as pd\n",
    "from Bio.PDB import Superimposer, PDBParser, PDBIO\n",
    "from Bio import PDB\n",
    "import warnings\n",
    "warnings.filterwarnings(\"ignore\")\n",
    "import glob"
   ]
  },
  {
   "cell_type": "code",
   "execution_count": 15,
   "metadata": {},
   "outputs": [],
   "source": [
    "# Dictionary for converting three-letter to one-letter codes\n",
    "three_to_one = {\n",
    "    'ALA': 'A', 'CYS': 'C', 'ASP': 'D', 'GLU': 'E', 'PHE': 'F',\n",
    "    'GLY': 'G', 'HIS': 'H', 'ILE': 'I', 'LYS': 'K', 'LEU': 'L',\n",
    "    'MET': 'M', 'ASN': 'N', 'PRO': 'P', 'GLN': 'Q', 'ARG': 'R',\n",
    "    'SER': 'S', 'THR': 'T', 'VAL': 'V', 'TRP': 'W', 'TYR': 'Y'\n",
    "}\n"
   ]
  },
  {
   "cell_type": "code",
   "execution_count": 16,
   "metadata": {},
   "outputs": [],
   "source": [
    "# Collecting the reference and AlphaFold generated files - change path for AF2 and AF3\n",
    "\n",
    "path_AF2 = 'Data/AF2_Aligned/*.pdb'\n",
    "path_AF3 = 'Data/AF3_Aligned/*.pdb'\n",
    "sample_files = []\n",
    "for filename in glob.glob(path_AF3):\n",
    "    sample_files.append(filename)\n",
    "\n",
    "reference_files = []\n",
    "for sample_file in sample_files:\n",
    "    reference_file_name = sample_file.split('/')[-1].split('_')[0].lower()\n",
    "    for filename in glob.glob('Data/TM_only_final/*'):\n",
    "        if filename.endswith('.pdb') and filename.split('/')[-1].split('_')[0].lower() == reference_file_name:\n",
    "            reference_files.append(filename)"
   ]
  },
  {
   "cell_type": "code",
   "execution_count": 17,
   "metadata": {},
   "outputs": [],
   "source": [
    "# Function to get the sequence of the protein\n",
    "def get_seq(structure):\n",
    "    sequences = {}\n",
    "    for model in structure:\n",
    "        for chain in model:\n",
    "            seq = ''\n",
    "            for residue in chain:\n",
    "                if residue.id[0] == ' ': # checks for heteroatoms to exclude them (like water)\n",
    "                    seq += three_to_one.get(residue.resname, 'X')  # 'X' for unknown or non-standard amino acids\n",
    "            sequences = seq\n",
    "    return sequences"
   ]
  },
  {
   "cell_type": "code",
   "execution_count": 18,
   "metadata": {},
   "outputs": [],
   "source": [
    "\n",
    "from Bio.PDB import PDBParser\n",
    "import numpy as np\n",
    "import pandas as pd\n",
    "\n",
    "\n",
    "# Function to get the top 7 subsequences (TM regions) from the reference protein\n",
    "def get_top_subsequences(pdb_file, num_subsequences=7):\n",
    "    parser = PDBParser()\n",
    "    structure = parser.get_structure(\"protein\", pdb_file)\n",
    "    subsequences = []\n",
    "\n",
    "    for model in structure:\n",
    "        for chain in model:\n",
    "            current_res_num = None\n",
    "            current_subsequence = []\n",
    "\n",
    "            for residue in chain:\n",
    "                res_num = residue.get_full_id()[3][1]\n",
    "                if current_res_num is None or res_num != current_res_num + 1:\n",
    "                    if current_subsequence:\n",
    "                        subsequences.append(current_subsequence)\n",
    "                    current_subsequence = []\n",
    "\n",
    "                if residue.has_id(\"CA\"):\n",
    "                    current_subsequence.append((residue.get_resname(), residue[\"CA\"].get_vector(), res_num))\n",
    "                    current_res_num = res_num\n",
    "\n",
    "            if current_subsequence:\n",
    "                subsequences.append(current_subsequence)\n",
    "\n",
    "    subsequences.sort(key=len, reverse=True)\n",
    "    return subsequences[:num_subsequences]\n",
    "\n",
    "# Function to find the corresponding subsequence in the generated protein\n",
    "def find_corresponding_gen_subsequence(ref_subseq, gen_structure):\n",
    "    ref_length = len(ref_subseq)\n",
    "    best_match = None\n",
    "\n",
    "    for model in gen_structure:\n",
    "        for chain in model:\n",
    "            gen_sequence = [(residue.get_resname(), residue[\"CA\"].get_vector(), residue.get_full_id()[3][1]) \n",
    "                            for residue in chain if residue.has_id(\"CA\")]\n",
    "\n",
    "            for i in range(len(gen_sequence) - ref_length + 1):\n",
    "                matching_length = sum(1 for ref_aa, gen_aa in zip(ref_subseq, gen_sequence[i:i+ref_length]) if ref_aa[0] == gen_aa[0])\n",
    "                if best_match is None or matching_length > best_match[0]:\n",
    "                    best_match = (matching_length, gen_sequence[i:i+ref_length])\n",
    "\n",
    "    return best_match[1] if best_match else None\n",
    "\n",
    "# Function to compare the subsequences of the reference and generated proteins and calculate the average distance between C-alpha atoms\n",
    "def compare_subsequences(ref_pdb, gen_pdb, protein_name):\n",
    "    parser = PDBParser()\n",
    "    ref_structure = parser.get_structure(\"ref\", ref_pdb)\n",
    "    gen_structure = parser.get_structure(\"gen\", gen_pdb)\n",
    "    ref_sequences = get_top_subsequences(ref_pdb)\n",
    "\n",
    "    distances = []\n",
    "    gen_sequence_length = sum(1 for model in gen_structure for chain in model for residue in chain)\n",
    "   \n",
    "\n",
    "    for ref_subseq in ref_sequences:\n",
    "        gen_subseq = find_corresponding_gen_subsequence(ref_subseq, gen_structure)\n",
    "\n",
    "        if gen_subseq:\n",
    "            for (ref_aa, ref_ca, _), (gen_aa, gen_ca, _) in zip(ref_subseq, gen_subseq):\n",
    "                if ref_aa == gen_aa:\n",
    "                    distance = np.linalg.norm(ref_ca - gen_ca)\n",
    "                    distances.append(distance)\n",
    "\n",
    "    if distances:\n",
    "        avg_distance = np.mean(distances)\n",
    "        max_distance = np.max(distances)\n",
    "        return protein_name, avg_distance\n",
    "\n",
    "\n",
    "results = []\n",
    "\n",
    "for ref_file, gen_file in zip(reference_files, sample_files):\n",
    "    protein_name = ref_file.split('/')[-1].split('_')[0].lower()\n",
    "    result = compare_subsequences(ref_file, gen_file, protein_name)\n",
    "    if result is not None:\n",
    "        results.append(result)\n",
    "\n",
    "# Storing the results in a dataframe\n",
    "df_results = pd.DataFrame(results, columns=[\"Protein\", \"Average Distance\"])\n",
    "\n"
   ]
  },
  {
   "cell_type": "code",
   "execution_count": 19,
   "metadata": {},
   "outputs": [
    {
     "name": "stdout",
     "output_type": "stream",
     "text": [
      "   Protein  Average Distance\n",
      "7    5ht1b          1.134164\n",
      "58   5ht2a          3.858857\n",
      "39   5ht2b          1.061522\n",
      "44   5ht2c          1.367736\n",
      "14    aa1r          1.990629\n",
      "..     ...               ...\n",
      "67   pth1r          2.433251\n",
      "37   s1pr1          2.015047\n",
      "52     smo          4.263313\n",
      "18    ta2r          1.099221\n",
      "24     v2r          5.541794\n",
      "\n",
      "[75 rows x 2 columns]\n"
     ]
    }
   ],
   "source": [
    "df_results.sort_values(by=['Protein'], inplace=True)\n",
    "print(df_results)\n"
   ]
  },
  {
   "cell_type": "code",
   "execution_count": 20,
   "metadata": {},
   "outputs": [],
   "source": [
    "# Saving final results - change the path for AF2 and AF3\n",
    "\n",
    "df_labels = pd.read_csv('Data/labels_GPCRs.csv')\n",
    "df_labels.sort_values(by=['Protein'], inplace=True)\n",
    "\n",
    "df_results.reset_index(drop=True, inplace=True)\n",
    "df_labels.reset_index(drop=True, inplace=True)\n",
    "\n",
    "df_labels['Average Distance'] = df_results['Average Distance']\n",
    "\n"
   ]
  },
  {
   "cell_type": "code",
   "execution_count": 22,
   "metadata": {},
   "outputs": [],
   "source": [
    "df_labels.to_csv(\"Results/deform_results_AF3.csv\", index=False)"
   ]
  }
 ],
 "metadata": {
  "kernelspec": {
   "display_name": "base",
   "language": "python",
   "name": "python3"
  },
  "language_info": {
   "codemirror_mode": {
    "name": "ipython",
    "version": 3
   },
   "file_extension": ".py",
   "mimetype": "text/x-python",
   "name": "python",
   "nbconvert_exporter": "python",
   "pygments_lexer": "ipython3",
   "version": "3.8.17"
  }
 },
 "nbformat": 4,
 "nbformat_minor": 2
}
