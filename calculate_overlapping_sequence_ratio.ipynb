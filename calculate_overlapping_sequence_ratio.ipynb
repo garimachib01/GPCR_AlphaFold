{
 "cells": [
  {
   "cell_type": "code",
   "execution_count": 1,
   "id": "3a16f4ef-72fe-4326-8dd3-b8b994734750",
   "metadata": {
    "tags": []
   },
   "outputs": [
    {
     "name": "stderr",
     "output_type": "stream",
     "text": [
      "/opt/anaconda3/lib/python3.8/site-packages/Bio/pairwise2.py:278: BiopythonDeprecationWarning: Bio.pairwise2 has been deprecated, and we intend to remove it in a future release of Biopython. As an alternative, please consider using Bio.Align.PairwiseAligner as a replacement, and contact the Biopython developers if you still need the Bio.pairwise2 module.\n",
      "  warnings.warn(\n"
     ]
    }
   ],
   "source": [
    "from Bio.PDB import PDBParser, Superimposer, PDBIO\n",
    "from Bio import PDB\n",
    "from Bio import SeqIO\n",
    "from Bio import pairwise2\n",
    "from Bio.pairwise2 import format_alignment\n",
    "import numpy as np\n",
    "import mdtraj as md\n",
    "import glob\n",
    "import pandas as pd \n",
    "import warnings\n",
    "warnings.filterwarnings(\"ignore\") "
   ]
  },
  {
   "cell_type": "code",
   "execution_count": 2,
   "id": "14697286-128e-478b-a6b4-73fc535c3741",
   "metadata": {
    "tags": []
   },
   "outputs": [],
   "source": [
    "# Function to get protein sequence\n",
    "def get_seq(structure):\n",
    "    sequences = {}\n",
    "    for model in structure:\n",
    "        for chain in model:\n",
    "            seq = ''\n",
    "            for residue in chain:\n",
    "                if residue.id[0] == ' ': # checks for heteroatoms to exclude them (like water)\n",
    "                    seq += three_to_one.get(residue.resname, 'X')  # 'X' for unknown or non-standard amino acids\n",
    "            sequences = seq\n",
    "    return sequences"
   ]
  },
  {
   "cell_type": "code",
   "execution_count": 3,
   "id": "8ca94ced",
   "metadata": {},
   "outputs": [],
   "source": [
    "# Dictionary for converting three-letter to one-letter codes\n",
    "three_to_one = {\n",
    "    'ALA': 'A', 'CYS': 'C', 'ASP': 'D', 'GLU': 'E', 'PHE': 'F',\n",
    "    'GLY': 'G', 'HIS': 'H', 'ILE': 'I', 'LYS': 'K', 'LEU': 'L',\n",
    "    'MET': 'M', 'ASN': 'N', 'PRO': 'P', 'GLN': 'Q', 'ARG': 'R',\n",
    "    'SER': 'S', 'THR': 'T', 'VAL': 'V', 'TRP': 'W', 'TYR': 'Y'\n",
    "}"
   ]
  },
  {
   "cell_type": "code",
   "execution_count": 4,
   "id": "3459bd47",
   "metadata": {},
   "outputs": [
    {
     "name": "stdout",
     "output_type": "stream",
     "text": [
      "Ratio of overlapping sequence:  0.9955947136563876\n"
     ]
    }
   ],
   "source": [
    "# Calculating ratio of overlapping sequences for a sample file\n",
    "\n",
    "reference_file = 'Data/TM_only/5ht1b_human_5V54_prot_TM.pdb'\n",
    "parser = PDBParser()\n",
    "reference_structure = parser.get_structure('reference', reference_file)\n",
    "reference_sequences = get_seq(reference_structure)\n",
    "\n",
    "sample_file = 'Data/Aligned/5HT1B_aligned.pdb'\n",
    "sample_structure = parser.get_structure('sample', sample_file)\n",
    "sample_sequences = get_seq(sample_structure)\n",
    "\n",
    "alignments = pairwise2.align.globalxx(reference_sequences, sample_sequences)\n",
    "reference, sample, _, _, _ = alignments[0]\n",
    "overlapping_sequence = ''\n",
    "\n",
    "for char_ref, char in zip(reference, sample):\n",
    "    if char_ref == char and char_ref != '-':\n",
    "        overlapping_sequence += char_ref\n",
    "            \n",
    "ratio = len(overlapping_sequence) / len(reference_sequences)\n",
    "print(\"Ratio of overlapping sequence: \", ratio)"
   ]
  }
 ],
 "metadata": {
  "kernelspec": {
   "display_name": "Python 3",
   "language": "python",
   "name": "python3"
  },
  "language_info": {
   "codemirror_mode": {
    "name": "ipython",
    "version": 3
   },
   "file_extension": ".py",
   "mimetype": "text/x-python",
   "name": "python",
   "nbconvert_exporter": "python",
   "pygments_lexer": "ipython3",
   "version": "3.8.17"
  }
 },
 "nbformat": 4,
 "nbformat_minor": 5
}
